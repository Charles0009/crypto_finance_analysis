{
 "cells": [
  {
   "cell_type": "code",
   "execution_count": 4,
   "metadata": {},
   "outputs": [
    {
     "data": {
      "text/html": [
       "<div>\n",
       "<style scoped>\n",
       "    .dataframe tbody tr th:only-of-type {\n",
       "        vertical-align: middle;\n",
       "    }\n",
       "\n",
       "    .dataframe tbody tr th {\n",
       "        vertical-align: top;\n",
       "    }\n",
       "\n",
       "    .dataframe thead th {\n",
       "        text-align: right;\n",
       "    }\n",
       "</style>\n",
       "<table border=\"1\" class=\"dataframe\">\n",
       "  <thead>\n",
       "    <tr style=\"text-align: right;\">\n",
       "      <th></th>\n",
       "      <th>author</th>\n",
       "      <th>time_stamp</th>\n",
       "      <th>text</th>\n",
       "    </tr>\n",
       "  </thead>\n",
       "  <tbody>\n",
       "    <tr>\n",
       "      <th>0</th>\n",
       "      <td>cryptobuddhaog</td>\n",
       "      <td>1624298886</td>\n",
       "      <td>[dollar_marker_symbol, pussc, blackhol, mechan...</td>\n",
       "    </tr>\n",
       "    <tr>\n",
       "      <th>1</th>\n",
       "      <td>socalquest</td>\n",
       "      <td>1624300350</td>\n",
       "      <td>[doge, dollar_marker_symbol, dogecoin, dollar_...</td>\n",
       "    </tr>\n",
       "    <tr>\n",
       "      <th>2</th>\n",
       "      <td>Play-That</td>\n",
       "      <td>1624300730</td>\n",
       "      <td>[diverisifc, best, way, build, wealth, kishu, ...</td>\n",
       "    </tr>\n",
       "    <tr>\n",
       "      <th>3</th>\n",
       "      <td>afzalwagi18</td>\n",
       "      <td>1624300750</td>\n",
       "      <td>[welcom, crypto, white, tiger, call, channel, ...</td>\n",
       "    </tr>\n",
       "    <tr>\n",
       "      <th>4</th>\n",
       "      <td>Sly21C</td>\n",
       "      <td>1624302074</td>\n",
       "      <td>[dollar_marker_symbol, greapap, sell, order, m...</td>\n",
       "    </tr>\n",
       "  </tbody>\n",
       "</table>\n",
       "</div>"
      ],
      "text/plain": [
       "           author  time_stamp  \\\n",
       "0  cryptobuddhaog  1624298886   \n",
       "1      socalquest  1624300350   \n",
       "2       Play-That  1624300730   \n",
       "3     afzalwagi18  1624300750   \n",
       "4          Sly21C  1624302074   \n",
       "\n",
       "                                                text  \n",
       "0  [dollar_marker_symbol, pussc, blackhol, mechan...  \n",
       "1  [doge, dollar_marker_symbol, dogecoin, dollar_...  \n",
       "2  [diverisifc, best, way, build, wealth, kishu, ...  \n",
       "3  [welcom, crypto, white, tiger, call, channel, ...  \n",
       "4  [dollar_marker_symbol, greapap, sell, order, m...  "
      ]
     },
     "metadata": {},
     "output_type": "display_data"
    }
   ],
   "source": [
    "import pandas \n",
    "\n",
    "\n",
    "path = \"/mnt/c/Users/charl/Documents/perso/crypto_finance_anlysis/BurnieYilmazRS19/dataPrep/REDDIT/data/processing/terms/subTerms_tests_3.pkl\"\n",
    "\n",
    "df = pandas.read_pickle(path) \n",
    "\n",
    "\n",
    "display(df.head())"
   ]
  }
 ],
 "metadata": {
  "kernelspec": {
   "display_name": "Python 3",
   "language": "python",
   "name": "python3"
  },
  "language_info": {
   "codemirror_mode": {
    "name": "ipython",
    "version": 3
   },
   "file_extension": ".py",
   "mimetype": "text/x-python",
   "name": "python",
   "nbconvert_exporter": "python",
   "pygments_lexer": "ipython3",
   "version": "3.10.7"
  },
  "orig_nbformat": 4,
  "vscode": {
   "interpreter": {
    "hash": "acce2ff996a6009c7246ec4a393389c98bfca356a70d70ae03325859b3002493"
   }
  }
 },
 "nbformat": 4,
 "nbformat_minor": 2
}
